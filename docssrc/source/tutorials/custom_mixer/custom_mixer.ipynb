{
 "cells": [
  {
   "cell_type": "markdown",
   "metadata": {},
   "source": [
    "# Tutorial - Implementing a custom mixer in Lightwood\n",
    "\n",
    "\n",
    "## Introduction\n",
    "\n",
    "Mixers are the center piece of lightwood, tasked with learning the mapping between the encoded feature and target representation\n",
    "\n",
    "\n",
    "## Objective\n",
    "\n",
    "In this tutorial we'll be trying to implement a sklearn random forest as a mixer that handles categorical and binary targets. "
   ]
  },
  {
   "cell_type": "markdown",
   "metadata": {},
   "source": [
    "## Step 1: The Mixer Interface\n",
    "\n",
    "The Mixer interface is defined by the `BaseMixer` class, a mixer needs methods for 4 tasks:\n",
    "* fitting (`fit`)\n",
    "* predicting (`__call__`)\n",
    "* construction (`__init__`)\n",
    "* partial fitting (`partial_fit`), though this one is optional"
   ]
  },
  {
   "cell_type": "markdown",
   "metadata": {},
   "source": [
    "## Step 2: Writing our mixer\n",
    "\n",
    "I'm going to create a file called `random_forest_mixer.py` inside `/etc/lightwood_modules`, this is where lightwood sources custom modules from.\n",
    "\n",
    "Inside of it I'm going to write the following code:"
   ]
  },
  {
   "cell_type": "code",
   "execution_count": 1,
   "metadata": {
    "execution": {
     "iopub.execute_input": "2022-02-03T21:37:10.384583Z",
     "iopub.status.busy": "2022-02-03T21:37:10.383368Z",
     "iopub.status.idle": "2022-02-03T21:37:10.389048Z",
     "shell.execute_reply": "2022-02-03T21:37:10.389617Z"
    }
   },
   "outputs": [
    {
     "name": "stdout",
     "output_type": "stream",
     "text": [
      "Overwriting random_forest_mixer.py\n"
     ]
    }
   ],
   "source": [
    "%%writefile random_forest_mixer.py\n",
    "\n",
    "from lightwood.mixer import BaseMixer\n",
    "from lightwood.api.types import PredictionArguments\n",
    "from lightwood.data.encoded_ds import EncodedDs, ConcatedEncodedDs\n",
    "from type_infer.dtype import dtype\n",
    "from lightwood.encoder import BaseEncoder\n",
    "\n",
    "import torch\n",
    "import pandas as pd\n",
    "from sklearn.ensemble import RandomForestClassifier\n",
    "\n",
    "\n",
    "class RandomForestMixer(BaseMixer):\n",
    "    clf: RandomForestClassifier\n",
    "\n",
    "    def __init__(self, stop_after: int, dtype_dict: dict, target: str, target_encoder: BaseEncoder):\n",
    "        super().__init__(stop_after)\n",
    "        self.target_encoder = target_encoder\n",
    "        # Throw in case someone tries to use this for a problem that's not classification, I'd fail anyway, but this way the error message is more intuitive\n",
    "        if dtype_dict[target] not in (dtype.categorical, dtype.binary):\n",
    "            raise Exception(f'This mixer can only be used for classification problems! Got target dtype {dtype_dict[target]} instead!')\n",
    "\n",
    "        # We could also initialize this in `fit` if some of the parameters depend on the input data, since `fit` is called exactly once\n",
    "        self.clf = RandomForestClassifier(max_depth=30)\n",
    "\n",
    "    def fit(self, train_data: EncodedDs, dev_data: EncodedDs) -> None:\n",
    "        X, Y = [], []\n",
    "        # By default mixers get some train data and a bit of dev data on which to do early stopping or hyper parameter optimization. For this mixer, we don't need dev data, so we're going to concat the two in order to get more training data. Then, we're going to turn them into an sklearn friendly foramat.\n",
    "        for x, y in ConcatedEncodedDs([train_data, dev_data]):\n",
    "            X.append(x.tolist())\n",
    "            Y.append(y.tolist())\n",
    "        self.clf.fit(X, Y)\n",
    "\n",
    "    def __call__(self, ds: EncodedDs,\n",
    "                 args: PredictionArguments = PredictionArguments()) -> pd.DataFrame:\n",
    "        # Turn the data into an sklearn friendly format\n",
    "        X = []\n",
    "        for x, _ in ds:\n",
    "            X.append(x.tolist())\n",
    "\n",
    "        Yh = self.clf.predict(X)\n",
    "\n",
    "        # Lightwood encoders are meant to decode torch tensors, so we have to cast the predictions first\n",
    "        decoded_predictions = self.target_encoder.decode(torch.Tensor(Yh))\n",
    "\n",
    "        # Finally, turn the decoded predictions into a dataframe with a single column called `prediction`. This is the standard behaviour all lightwood mixers use\n",
    "        ydf = pd.DataFrame({'prediction': decoded_predictions})\n",
    "\n",
    "        return ydf\n",
    "\n",
    "    \n",
    "    # We'll skip implementing `partial_fit`, thus making this mixer unsuitable for online training tasks"
   ]
  },
  {
   "cell_type": "markdown",
   "metadata": {},
   "source": [
    "## Step 3: Using our mixer\n",
    "\n",
    "We're going to use our mixer for diagnosing heart disease using this dataset: [https://github.com/mindsdb/benchmarks/blob/main/benchmarks/datasets/heart_disease/data.csv](https://github.com/mindsdb/benchmarks/blob/main/benchmarks/datasets/heart_disease/data.csv)\n",
    "\n",
    "First, since we don't want to bother writing a Json AI for this dataset from scratch, we're going to let lightwood auto generate one."
   ]
  },
  {
   "cell_type": "code",
   "execution_count": 2,
   "metadata": {
    "execution": {
     "iopub.execute_input": "2022-02-03T21:37:10.396795Z",
     "iopub.status.busy": "2022-02-03T21:37:10.396197Z",
     "iopub.status.idle": "2022-02-03T21:37:12.621715Z",
     "shell.execute_reply": "2022-02-03T21:37:12.621913Z"
    }
   },
   "outputs": [
    {
     "name": "stderr",
     "output_type": "stream",
     "text": [
      "\u001B[32mINFO:lightwood-1468487:Dropping features: []\u001B[0m\n",
      "\u001B[32mINFO:lightwood-1468487:Analyzing a sample of 298\u001B[0m\n",
      "\u001B[32mINFO:lightwood-1468487:from a total population of 303, this is equivalent to 98.3% of your data.\u001B[0m\n",
      "\u001B[32mINFO:lightwood-1468487:Using 7 processes to deduct types.\u001B[0m\n",
      "\u001B[32mINFO:lightwood-1468487:Infering type for: cp\u001B[0m\n",
      "\u001B[32mINFO:lightwood-1468487:Infering type for: age\u001B[0m\n",
      "\u001B[32mINFO:lightwood-1468487:Infering type for: sex\u001B[0m\n",
      "\u001B[32mINFO:lightwood-1468487:Infering type for: trestbps\u001B[0m\n",
      "\u001B[32mINFO:lightwood-1468487:Infering type for: chol\u001B[0m\n",
      "\u001B[32mINFO:lightwood-1468487:Infering type for: restecg\u001B[0m\n",
      "\u001B[32mINFO:lightwood-1468487:Infering type for: fbs\u001B[0m\n",
      "\u001B[32mINFO:lightwood-1468487:Column cp has data type categorical\u001B[0m\n",
      "\u001B[32mINFO:lightwood-1468487:Column chol has data type integer\u001B[0m\n",
      "\u001B[32mINFO:lightwood-1468487:Column sex has data type binary\u001B[0m\n",
      "\u001B[32mINFO:lightwood-1468487:Column restecg has data type categorical\u001B[0m\n",
      "\u001B[32mINFO:lightwood-1468487:Column trestbps has data type integer\u001B[0m\n",
      "\u001B[32mINFO:lightwood-1468487:Column age has data type integer\u001B[0m\n",
      "\u001B[32mINFO:lightwood-1468487:Column fbs has data type binary\u001B[0m\n",
      "\u001B[32mINFO:lightwood-1468487:Infering type for: thalach\u001B[0m\n",
      "\u001B[32mINFO:lightwood-1468487:Infering type for: exang\u001B[0m\n",
      "\u001B[32mINFO:lightwood-1468487:Infering type for: ca\u001B[0m\n",
      "\u001B[32mINFO:lightwood-1468487:Infering type for: slope\u001B[0m\n",
      "\u001B[32mINFO:lightwood-1468487:Infering type for: oldpeak\u001B[0m\n",
      "\u001B[32mINFO:lightwood-1468487:Column thalach has data type integer\u001B[0m\n",
      "\u001B[32mINFO:lightwood-1468487:Infering type for: thal\u001B[0m\n",
      "\u001B[32mINFO:lightwood-1468487:Column exang has data type binary\u001B[0m\n",
      "\u001B[32mINFO:lightwood-1468487:Column ca has data type categorical\u001B[0m\n",
      "\u001B[32mINFO:lightwood-1468487:Infering type for: target\u001B[0m\n",
      "\u001B[32mINFO:lightwood-1468487:Column thal has data type categorical\u001B[0m\n",
      "\u001B[32mINFO:lightwood-1468487:Column target has data type binary\u001B[0m\n",
      "\u001B[32mINFO:lightwood-1468487:Column oldpeak has data type float\u001B[0m\n",
      "\u001B[32mINFO:lightwood-1468487:Column slope has data type categorical\u001B[0m\n",
      "\u001B[32mINFO:lightwood-1468487:Starting statistical analysis\u001B[0m\n",
      "\u001B[32mINFO:lightwood-1468487:Finished statistical analysis\u001B[0m\n"
     ]
    },
    {
     "name": "stdout",
     "output_type": "stream",
     "text": [
      "{\n",
      "    \"encoders\": {\n",
      "        \"target\": {\n",
      "            \"module\": \"BinaryEncoder\",\n",
      "            \"args\": {\n",
      "                \"is_target\": \"True\",\n",
      "                \"target_weights\": \"$statistical_analysis.target_weights\"\n",
      "            }\n",
      "        },\n",
      "        \"age\": {\n",
      "            \"module\": \"NumericEncoder\",\n",
      "            \"args\": {}\n",
      "        },\n",
      "        \"sex\": {\n",
      "            \"module\": \"BinaryEncoder\",\n",
      "            \"args\": {}\n",
      "        },\n",
      "        \"cp\": {\n",
      "            \"module\": \"OneHotEncoder\",\n",
      "            \"args\": {}\n",
      "        },\n",
      "        \"trestbps\": {\n",
      "            \"module\": \"NumericEncoder\",\n",
      "            \"args\": {}\n",
      "        },\n",
      "        \"chol\": {\n",
      "            \"module\": \"NumericEncoder\",\n",
      "            \"args\": {}\n",
      "        },\n",
      "        \"fbs\": {\n",
      "            \"module\": \"BinaryEncoder\",\n",
      "            \"args\": {}\n",
      "        },\n",
      "        \"restecg\": {\n",
      "            \"module\": \"OneHotEncoder\",\n",
      "            \"args\": {}\n",
      "        },\n",
      "        \"thalach\": {\n",
      "            \"module\": \"NumericEncoder\",\n",
      "            \"args\": {}\n",
      "        },\n",
      "        \"exang\": {\n",
      "            \"module\": \"BinaryEncoder\",\n",
      "            \"args\": {}\n",
      "        },\n",
      "        \"oldpeak\": {\n",
      "            \"module\": \"NumericEncoder\",\n",
      "            \"args\": {}\n",
      "        },\n",
      "        \"slope\": {\n",
      "            \"module\": \"OneHotEncoder\",\n",
      "            \"args\": {}\n",
      "        },\n",
      "        \"ca\": {\n",
      "            \"module\": \"OneHotEncoder\",\n",
      "            \"args\": {}\n",
      "        },\n",
      "        \"thal\": {\n",
      "            \"module\": \"OneHotEncoder\",\n",
      "            \"args\": {}\n",
      "        }\n",
      "    },\n",
      "    \"dtype_dict\": {\n",
      "        \"age\": \"integer\",\n",
      "        \"sex\": \"binary\",\n",
      "        \"cp\": \"categorical\",\n",
      "        \"trestbps\": \"integer\",\n",
      "        \"chol\": \"integer\",\n",
      "        \"fbs\": \"binary\",\n",
      "        \"restecg\": \"categorical\",\n",
      "        \"thalach\": \"integer\",\n",
      "        \"exang\": \"binary\",\n",
      "        \"oldpeak\": \"float\",\n",
      "        \"slope\": \"categorical\",\n",
      "        \"ca\": \"categorical\",\n",
      "        \"thal\": \"categorical\",\n",
      "        \"target\": \"binary\"\n",
      "    },\n",
      "    \"dependency_dict\": {},\n",
      "    \"model\": {\n",
      "        \"module\": \"BestOf\",\n",
      "        \"args\": {\n",
      "            \"submodels\": [\n",
      "                {\n",
      "                    \"module\": \"Neural\",\n",
      "                    \"args\": {\n",
      "                        \"fit_on_dev\": true,\n",
      "                        \"stop_after\": \"$problem_definition.seconds_per_mixer\",\n",
      "                        \"search_hyperparameters\": true\n",
      "                    }\n",
      "                },\n",
      "                {\n",
      "                    \"module\": \"LightGBM\",\n",
      "                    \"args\": {\n",
      "                        \"stop_after\": \"$problem_definition.seconds_per_mixer\",\n",
      "                        \"fit_on_dev\": true\n",
      "                    }\n",
      "                },\n",
      "                {\n",
      "                    \"module\": \"Regression\",\n",
      "                    \"args\": {\n",
      "                        \"stop_after\": \"$problem_definition.seconds_per_mixer\"\n",
      "                    }\n",
      "                }\n",
      "            ],\n",
      "            \"args\": \"$pred_args\",\n",
      "            \"accuracy_functions\": \"$accuracy_functions\",\n",
      "            \"ts_analysis\": null\n",
      "        }\n",
      "    },\n",
      "    \"problem_definition\": {\n",
      "        \"target\": \"target\",\n",
      "        \"pct_invalid\": 2,\n",
      "        \"unbias_target\": true,\n",
      "        \"seconds_per_mixer\": 57024.0,\n",
      "        \"seconds_per_encoder\": null,\n",
      "        \"expected_additional_time\": 0.1534867286682129,\n",
      "        \"time_aim\": 259200,\n",
      "        \"target_weights\": null,\n",
      "        \"positive_domain\": false,\n",
      "        \"timeseries_settings\": {\n",
      "            \"is_timeseries\": false,\n",
      "            \"order_by\": null,\n",
      "            \"window\": null,\n",
      "            \"group_by\": null,\n",
      "            \"use_previous_target\": true,\n",
      "            \"horizon\": null,\n",
      "            \"historical_columns\": null,\n",
      "            \"target_type\": \"\",\n",
      "            \"allow_incomplete_history\": true,\n",
      "            \"eval_cold_start\": true,\n",
      "            \"interval_periods\": []\n",
      "        },\n",
      "        \"anomaly_detection\": false,\n",
      "        \"use_default_analysis\": true,\n",
      "        \"ignore_features\": [],\n",
      "        \"fit_on_all\": true,\n",
      "        \"strict_mode\": true,\n",
      "        \"seed_nr\": 420\n",
      "    },\n",
      "    \"identifiers\": {},\n",
      "    \"accuracy_functions\": [\n",
      "        \"balanced_accuracy_score\"\n",
      "    ]\n",
      "}\n"
     ]
    }
   ],
   "source": [
    "from lightwood.api.high_level import ProblemDefinition, json_ai_from_problem, load_custom_module\n",
    "import pandas as pd\n",
    "\n",
    "# load the code\n",
    "load_custom_module('random_forest_mixer.py')\n",
    "\n",
    "# read dataset\n",
    "df = pd.read_csv('https://raw.githubusercontent.com/mindsdb/benchmarks/main/benchmarks/datasets/heart_disease/data.csv')\n",
    "\n",
    "# define the predictive task\n",
    "pdef = ProblemDefinition.from_dict({\n",
    "    'target': 'target', # column you want to predict\n",
    "})\n",
    "\n",
    "# generate the Json AI intermediate representation from the data and its corresponding settings\n",
    "json_ai = json_ai_from_problem(df, problem_definition=pdef)\n",
    "\n",
    "# Print it (you can also put it in a file and edit it there)\n",
    "print(json_ai.to_json())"
   ]
  },
  {
   "cell_type": "markdown",
   "metadata": {},
   "source": [
    "Now we have to edit the `mixers` key of this json ai to tell lightwood to use our custom mixer. We can use it together with the others, and have it ensembled with them at the end, or standalone. In this case I'm going to replace all existing mixers with this one"
   ]
  },
  {
   "cell_type": "code",
   "execution_count": 3,
   "metadata": {
    "execution": {
     "iopub.execute_input": "2022-02-03T21:37:12.626264Z",
     "iopub.status.busy": "2022-02-03T21:37:12.625986Z",
     "iopub.status.idle": "2022-02-03T21:37:12.626938Z",
     "shell.execute_reply": "2022-02-03T21:37:12.627155Z"
    }
   },
   "outputs": [],
   "source": [
    "json_ai.model['args']['submodels'] = [{\n",
    "    'module': 'random_forest_mixer.RandomForestMixer',\n",
    "    'args': {\n",
    "        'stop_after': '$problem_definition.seconds_per_mixer',\n",
    "        'dtype_dict': '$dtype_dict',\n",
    "        'target': '$target',\n",
    "                'target_encoder': '$encoders[self.target]'\n",
    "\n",
    "    }\n",
    "}]"
   ]
  },
  {
   "cell_type": "markdown",
   "metadata": {},
   "source": [
    "Then we'll generate some code, and finally turn that code into a predictor object and fit it on the original data."
   ]
  },
  {
   "cell_type": "code",
   "execution_count": 4,
   "metadata": {
    "execution": {
     "iopub.execute_input": "2022-02-03T21:37:12.630176Z",
     "iopub.status.busy": "2022-02-03T21:37:12.629896Z",
     "iopub.status.idle": "2022-02-03T21:37:12.635767Z",
     "shell.execute_reply": "2022-02-03T21:37:12.636014Z"
    }
   },
   "outputs": [],
   "source": [
    "from lightwood.api.high_level import code_from_json_ai, predictor_from_code\n",
    "\n",
    "code = code_from_json_ai(json_ai)\n",
    "predictor = predictor_from_code(code)"
   ]
  },
  {
   "cell_type": "code",
   "execution_count": 5,
   "metadata": {
    "execution": {
     "iopub.execute_input": "2022-02-03T21:37:12.638323Z",
     "iopub.status.busy": "2022-02-03T21:37:12.638054Z",
     "iopub.status.idle": "2022-02-03T21:37:14.262880Z",
     "shell.execute_reply": "2022-02-03T21:37:14.263096Z"
    }
   },
   "outputs": [
    {
     "name": "stderr",
     "output_type": "stream",
     "text": [
      "\u001B[32mINFO:lightwood-1468487:Dropping features: []\u001B[0m\n",
      "\u001B[32mINFO:lightwood-1468487:Performing statistical analysis on data\u001B[0m\n",
      "\u001B[32mINFO:lightwood-1468487:Starting statistical analysis\u001B[0m\n",
      "\u001B[32mINFO:lightwood-1468487:Finished statistical analysis\u001B[0m\n",
      "\u001B[37mDEBUG:lightwood-1468487: `analyze_data` runtime: 0.01 seconds\u001B[0m\n",
      "\u001B[32mINFO:lightwood-1468487:Cleaning the data\u001B[0m\n",
      "\u001B[37mDEBUG:lightwood-1468487: `preprocess` runtime: 0.01 seconds\u001B[0m\n",
      "\u001B[32mINFO:lightwood-1468487:Splitting the data into train/test\u001B[0m\n",
      "\u001B[37mDEBUG:lightwood-1468487: `split` runtime: 0.01 seconds\u001B[0m\n",
      "\u001B[32mINFO:lightwood-1468487:Preparing the encoders\u001B[0m\n",
      "\u001B[32mINFO:lightwood-1468487:Encoder prepping dict length of: 1\u001B[0m\n",
      "\u001B[32mINFO:lightwood-1468487:Encoder prepping dict length of: 2\u001B[0m\n",
      "\u001B[32mINFO:lightwood-1468487:Encoder prepping dict length of: 3\u001B[0m\n",
      "\u001B[32mINFO:lightwood-1468487:Encoder prepping dict length of: 4\u001B[0m\n",
      "\u001B[32mINFO:lightwood-1468487:Encoder prepping dict length of: 5\u001B[0m\n",
      "\u001B[32mINFO:lightwood-1468487:Encoder prepping dict length of: 6\u001B[0m\n",
      "\u001B[32mINFO:lightwood-1468487:Encoder prepping dict length of: 7\u001B[0m\n",
      "\u001B[32mINFO:lightwood-1468487:Encoder prepping dict length of: 8\u001B[0m\n",
      "\u001B[32mINFO:lightwood-1468487:Encoder prepping dict length of: 9\u001B[0m\n",
      "\u001B[32mINFO:lightwood-1468487:Encoder prepping dict length of: 10\u001B[0m\n",
      "\u001B[32mINFO:lightwood-1468487:Encoder prepping dict length of: 11\u001B[0m\n",
      "\u001B[32mINFO:lightwood-1468487:Encoder prepping dict length of: 12\u001B[0m\n",
      "\u001B[32mINFO:lightwood-1468487:Encoder prepping dict length of: 13\u001B[0m\n",
      "\u001B[32mINFO:lightwood-1468487:Encoder prepping dict length of: 14\u001B[0m\n",
      "\u001B[32mINFO:lightwood-1468487:Encoding UNKNOWN categories as index 0\u001B[0m\n",
      "\u001B[32mINFO:lightwood-1468487:Encoding UNKNOWN categories as index 0\u001B[0m\n",
      "\u001B[32mINFO:lightwood-1468487:Encoding UNKNOWN categories as index 0\u001B[0m\n",
      "\u001B[32mINFO:lightwood-1468487:Encoding UNKNOWN categories as index 0\u001B[0m\n",
      "\u001B[32mINFO:lightwood-1468487:Encoding UNKNOWN categories as index 0\u001B[0m\n",
      "\u001B[32mINFO:lightwood-1468487:Done running for: target\u001B[0m\n",
      "\u001B[32mINFO:lightwood-1468487:Done running for: age\u001B[0m\n",
      "\u001B[32mINFO:lightwood-1468487:Done running for: sex\u001B[0m\n",
      "\u001B[32mINFO:lightwood-1468487:Done running for: cp\u001B[0m\n",
      "\u001B[32mINFO:lightwood-1468487:Done running for: trestbps\u001B[0m\n",
      "\u001B[32mINFO:lightwood-1468487:Done running for: chol\u001B[0m\n",
      "\u001B[32mINFO:lightwood-1468487:Done running for: fbs\u001B[0m\n",
      "\u001B[32mINFO:lightwood-1468487:Done running for: restecg\u001B[0m\n",
      "\u001B[32mINFO:lightwood-1468487:Done running for: thalach\u001B[0m\n",
      "\u001B[32mINFO:lightwood-1468487:Done running for: exang\u001B[0m\n",
      "\u001B[32mINFO:lightwood-1468487:Done running for: oldpeak\u001B[0m\n",
      "\u001B[32mINFO:lightwood-1468487:Done running for: slope\u001B[0m\n",
      "\u001B[32mINFO:lightwood-1468487:Done running for: ca\u001B[0m\n",
      "\u001B[32mINFO:lightwood-1468487:Done running for: thal\u001B[0m\n",
      "\u001B[37mDEBUG:lightwood-1468487: `prepare` runtime: 0.17 seconds\u001B[0m\n",
      "\u001B[32mINFO:lightwood-1468487:Featurizing the data\u001B[0m\n",
      "\u001B[37mDEBUG:lightwood-1468487: `featurize` runtime: 0.0 seconds\u001B[0m\n",
      "\u001B[32mINFO:lightwood-1468487:Training the mixers\u001B[0m\n",
      "\u001B[32mINFO:lightwood-1468487:Ensembling the mixer\u001B[0m\n",
      "\u001B[32mINFO:lightwood-1468487:Mixer: RandomForestMixer got accuracy: 0.8348214285714286\u001B[0m\n",
      "\u001B[32mINFO:lightwood-1468487:Picked best mixer: RandomForestMixer\u001B[0m\n",
      "\u001B[37mDEBUG:lightwood-1468487: `fit` runtime: 1.39 seconds\u001B[0m\n",
      "\u001B[32mINFO:lightwood-1468487:Analyzing the ensemble of mixers\u001B[0m\n",
      "\u001B[32mINFO:lightwood-1468487:The block ICP is now running its analyze() method\u001B[0m\n",
      "\u001B[32mINFO:lightwood-1468487:The block AccStats is now running its analyze() method\u001B[0m\n",
      "\u001B[32mINFO:lightwood-1468487:The block ConfStats is now running its analyze() method\u001B[0m\n",
      "\u001B[37mDEBUG:lightwood-1468487: `analyze_ensemble` runtime: 0.02 seconds\u001B[0m\n",
      "\u001B[32mINFO:lightwood-1468487:Adjustment on validation requested.\u001B[0m\n",
      "\u001B[32mINFO:lightwood-1468487:Updating the mixers\u001B[0m\n",
      "\u001B[37mDEBUG:lightwood-1468487: `adjust` runtime: 0.0 seconds\u001B[0m\n",
      "\u001B[37mDEBUG:lightwood-1468487: `learn` runtime: 1.62 seconds\u001B[0m\n"
     ]
    }
   ],
   "source": [
    "predictor.learn(df)"
   ]
  },
  {
   "cell_type": "markdown",
   "metadata": {},
   "source": [
    "Finally, we can use the trained predictor to make some predictions, or save it to a pickle for later use"
   ]
  },
  {
   "cell_type": "code",
   "execution_count": 6,
   "metadata": {
    "execution": {
     "iopub.execute_input": "2022-02-03T21:37:14.266136Z",
     "iopub.status.busy": "2022-02-03T21:37:14.265844Z",
     "iopub.status.idle": "2022-02-03T21:37:14.331096Z",
     "shell.execute_reply": "2022-02-03T21:37:14.330857Z"
    }
   },
   "outputs": [
    {
     "name": "stderr",
     "output_type": "stream",
     "text": [
      "\u001B[32mINFO:lightwood-1468487:Dropping features: []\u001B[0m\n",
      "\u001B[32mINFO:lightwood-1468487:Cleaning the data\u001B[0m\n",
      "\u001B[37mDEBUG:lightwood-1468487: `preprocess` runtime: 0.0 seconds\u001B[0m\n",
      "\u001B[32mINFO:lightwood-1468487:Featurizing the data\u001B[0m\n",
      "\u001B[37mDEBUG:lightwood-1468487: `featurize` runtime: 0.0 seconds\u001B[0m\n",
      "\u001B[32mINFO:lightwood-1468487:The block ICP is now running its explain() method\u001B[0m\n",
      "\u001B[32mINFO:lightwood-1468487:The block AccStats is now running its explain() method\u001B[0m\n",
      "\u001B[32mINFO:lightwood-1468487:AccStats.explain() has not been implemented, no modifications will be done to the data insights.\u001B[0m\n",
      "\u001B[32mINFO:lightwood-1468487:The block ConfStats is now running its explain() method\u001B[0m\n",
      "\u001B[32mINFO:lightwood-1468487:ConfStats.explain() has not been implemented, no modifications will be done to the data insights.\u001B[0m\n",
      "\u001B[37mDEBUG:lightwood-1468487: `predict` runtime: 0.03 seconds\u001B[0m\n"
     ]
    },
    {
     "name": "stdout",
     "output_type": "stream",
     "text": [
      "   original_index prediction  confidence\n",
      "0               0          1    0.972203\n",
      "1               1          0    0.989355\n",
      "2               2          1    0.849581\n"
     ]
    }
   ],
   "source": [
    "predictions = predictor.predict(pd.DataFrame({\n",
    "    'age': [63, 15, None],\n",
    "    'sex': [1, 1, 0],\n",
    "    'thal': [3, 1, 1]\n",
    "}))\n",
    "print(predictions)\n",
    "\n",
    "predictor.save('my_custom_heart_disease_predictor.pickle')"
   ]
  },
  {
   "cell_type": "markdown",
   "metadata": {},
   "source": [
    "That's it, all it takes to solve a predictive problem with lightwood using your own custom mixer."
   ]
  }
 ],
 "metadata": {
  "language_info": {
   "codemirror_mode": {
    "name": "ipython",
    "version": 3
   },
   "file_extension": ".py",
   "mimetype": "text/x-python",
   "name": "python",
   "nbconvert_exporter": "python",
   "pygments_lexer": "ipython3",
   "version": "3.8.10"
  }
 },
 "nbformat": 4,
 "nbformat_minor": 4
}